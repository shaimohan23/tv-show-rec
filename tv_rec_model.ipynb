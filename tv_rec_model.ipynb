{
 "cells": [
  {
   "cell_type": "code",
   "execution_count": 4,
   "metadata": {},
   "outputs": [],
   "source": [
    "import pandas as pd\n",
    "import numpy as np"
   ]
  },
  {
   "cell_type": "markdown",
   "metadata": {},
   "source": [
    "## Clean and prep data for fine-tuning"
   ]
  },
  {
   "cell_type": "code",
   "execution_count": 5,
   "metadata": {},
   "outputs": [
    {
     "name": "stdout",
     "output_type": "stream",
     "text": [
      "             title  contentRating  episodeRuntime_minutes  \\\n",
      "0  Game of Thrones             18                    57.0   \n",
      "1     Breaking Bad             18                    49.0   \n",
      "\n",
      "                       genres  imdbRating  \\\n",
      "0  [Action, Adventure, Drama]         9.3   \n",
      "1    [Crime, Drama, Thriller]         9.5   \n",
      "\n",
      "                                            overview           star1  \\\n",
      "0  Nine noble families fight for control over the...   Emilia Clarke   \n",
      "1  A high school chemistry teacher diagnosed with...  Bryan Cranston   \n",
      "\n",
      "            star2          star3         star4  numVotes  \\\n",
      "0  Peter Dinklage  Kit Harington   Lena Headey   1773458   \n",
      "1      Aaron Paul      Anna Gunn  Betsy Brandt   1468887   \n",
      "\n",
      "                                              actors  \n",
      "0  [Emilia Clarke, Peter Dinklage, Kit Harington,...  \n",
      "1  [Bryan Cranston, Aaron Paul, Anna Gunn, Betsy ...  \n",
      "Number of cleaned records: 2000\n"
     ]
    },
    {
     "name": "stderr",
     "output_type": "stream",
     "text": [
      "/var/folders/cs/dn__g7h925961h4xw_ml_xtc0000gn/T/ipykernel_59450/1312424590.py:85: FutureWarning: Downcasting behavior in `replace` is deprecated and will be removed in a future version. To retain the old behavior, explicitly call `result.infer_objects(copy=False)`. To opt-in to the future behavior, set `pd.set_option('future.no_silent_downcasting', True)`\n",
      "  df[\"contentRating\"] = df[\"contentRating\"].replace(rating_age_map)\n"
     ]
    }
   ],
   "source": [
    "def clean_imdb_series_data(csv_path=\"./data/IMDB_series_data.csv\"):\n",
    "    \"\"\"\n",
    "    Cleans the IMDB_series_data.csv based on known column headers:\n",
    "    \n",
    "    Poster_Link\n",
    "    Series_Title\n",
    "    Runtime_of_Series\n",
    "    Certificate\n",
    "    Runtime_of_Episodes\n",
    "    Genre\n",
    "    IMDB_Rating\n",
    "    Overview\n",
    "    Star1\n",
    "    Star2\n",
    "    Star3\n",
    "    Star4\n",
    "    No_of_Votes\n",
    "    \"\"\"\n",
    "\n",
    "    df = pd.read_csv(csv_path)\n",
    "    df.rename(columns={\n",
    "        \"Series_Title\": \"title\",\n",
    "        \"Certificate\": \"contentRating\",\n",
    "        \"Genre\": \"genres\",\n",
    "        \"Poster_Link\": \"posterLink\",\n",
    "        \"Runtime_of_Series\": \"seriesRuntime\",\n",
    "        \"Runtime_of_Episodes\": \"episodeRuntime_minutes\",\n",
    "        \"IMDB_Rating\": \"imdbRating\",\n",
    "        \"Overview\": \"overview\",\n",
    "        \"Star1\": \"star1\",\n",
    "        \"Star2\": \"star2\",\n",
    "        \"Star3\": \"star3\",\n",
    "        \"Star4\": \"star4\",\n",
    "        \"No_of_Votes\": \"numVotes\"\n",
    "    }, inplace=True)\n",
    "\n",
    "    # Convert numeric columns where appropriate\n",
    "    numeric_cols = [\"imdbRating\", \"numVotes\"]\n",
    "    for col in numeric_cols:\n",
    "        if col in df.columns:\n",
    "            df[col] = pd.to_numeric(df[col], errors=\"coerce\")\n",
    "    \n",
    "    # print (df[\"episodeRuntime_minutes\"].unique())\n",
    "    # df[\"episodeRuntime_minutes\"] = df[\"episodeRuntime_minutes\"].apply(lambda row: [int(x.split()[0]) for x in row])\n",
    "    df[\"episodeRuntime_minutes\"] = df[\"episodeRuntime_minutes\"].astype(str)                   # ensure it's string\n",
    "    df[\"episodeRuntime_minutes\"] = df[\"episodeRuntime_minutes\"].str.replace(\" min\", \"\")       # remove trailing \" min\"\n",
    "    df[\"episodeRuntime_minutes\"] = pd.to_numeric(df[\"episodeRuntime_minutes\"], errors=\"coerce\")\n",
    "\n",
    "\n",
    "    # Create an \"actors\" column by combining star1, star2, star3, star4. Filter out any missing or NaN values\n",
    "    df[\"actors\"] = df[[\"star1\", \"star2\", \"star3\", \"star4\"]].values.tolist()\n",
    "    df[\"actors\"] = df[\"actors\"].apply(lambda row: [actor for actor in row if isinstance(actor, str) and actor.strip()])\n",
    "\n",
    "    # Clean up genres\n",
    "    if \"genres\" in df.columns:\n",
    "        df[\"genres\"] = df[\"genres\"].fillna(\"\").apply(\n",
    "            lambda x: [g.strip() for g in x.split(\",\") if g.strip()]\n",
    "        )\n",
    "\n",
    "    # Clean and unify the contentRating\n",
    "    if \"contentRating\" in df.columns:\n",
    "        df[\"contentRating\"] = df[\"contentRating\"].fillna(\"Not Rated\")\n",
    "        df[\"contentRating\"] = df[\"contentRating\"].astype(str)\n",
    "        rating_age_map = {\n",
    "            \"A\": 18,\n",
    "            \"18\": 18,\n",
    "            \"18+\": 18,\n",
    "            \"13+\": 13,\n",
    "            \"15\": 15,\n",
    "            \"UA\": 12,\n",
    "            \"U\": 0,\n",
    "            \"15+\": 15,\n",
    "            \"16+\": 16,\n",
    "            \"12+\": 12,\n",
    "            \"13\": 13,\n",
    "            \"16\": 16,\n",
    "            \"7\": 7,\n",
    "            \"7+\": 7,\n",
    "            \"PG\": 10,\n",
    "            \"All\": 0,\n",
    "            \"Not Rated\": 18,\n",
    "            \"R\": 17,\n",
    "            \"NaN\": 18\n",
    "        }\n",
    "        df[\"contentRating\"] = df[\"contentRating\"].replace(rating_age_map)\n",
    "        df[\"contentRating\"] = df[\"contentRating\"].astype(int)\n",
    "\n",
    "    df.drop([\"seriesRuntime\", \"posterLink\"], axis=1, inplace=True)\n",
    "    df.reset_index(drop=True, inplace=True)\n",
    "\n",
    "    return df\n",
    "\n",
    "cleaned_df = clean_imdb_series_data(\"./data/IMDB_series_data.csv\")\n",
    "print(cleaned_df[0:2])\n",
    "print(f\"Number of cleaned records: {len(cleaned_df)}\")\n"
   ]
  },
  {
   "cell_type": "code",
   "execution_count": null,
   "metadata": {},
   "outputs": [
    {
     "name": "stderr",
     "output_type": "stream",
     "text": [
      "Device set to use mps:0\n"
     ]
    }
   ],
   "source": [
    "# from transformers import pipeline, set_seed\n",
    "\n",
    "# set_seed(42)  # for reproducibility\n",
    "# gpt2_pipeline = pipeline(\n",
    "#     \"text-generation\",\n",
    "#     model=\"gpt2\",\n",
    "#     pad_token_id=50256,\n",
    "#     max_new_tokens=128,\n",
    "#     temperature=0.7,\n",
    "#     top_k=50,\n",
    "#     top_p=0.95,\n",
    "#     repetition_penalty=1.2\n",
    "# )"
   ]
  },
  {
   "cell_type": "code",
   "execution_count": 28,
   "metadata": {},
   "outputs": [],
   "source": [
    "import openai\n",
    "import os\n",
    "\n",
    "# Ensure API key is set\n",
    "openai.api_key = os.getenv(\"OPENAI_API_KEY\")\n",
    "\n",
    "def openai_generate(prompt: str, model: str = \"gpt-4o-mini\", temperature=0.7, max_tokens=200):\n",
    "    \"\"\"\n",
    "    Calls the OpenAI API with the given model (GPT-4o Mini or GPT-4).\n",
    "    \"\"\"\n",
    "    response = openai.ChatCompletion.create(\n",
    "        model=model,  # Either \"gpt-4o-mini\" or \"gpt-4\"\n",
    "        messages=[\n",
    "            {\"role\": \"system\", \"content\": \"You are a helpful TV show recommender.\"},\n",
    "            {\"role\": \"user\", \"content\": prompt}\n",
    "        ],\n",
    "        temperature=temperature,\n",
    "        max_tokens=max_tokens\n",
    "    )\n",
    "    return response[\"choices\"][0][\"message\"][\"content\"]\n"
   ]
  },
  {
   "cell_type": "code",
   "execution_count": 29,
   "metadata": {},
   "outputs": [],
   "source": [
    "def generate_no_few_shot(model: str, user_query: str) -> str:\n",
    "    \"\"\"\n",
    "    Basic recommendation request with no few-shot examples.\n",
    "    \"\"\"\n",
    "    prompt = f\"Recommend a TV show based on these preferences:\\n{user_query}\\nRecommendation:\"\n",
    "    return openai_generate(prompt, model=model)"
   ]
  },
  {
   "cell_type": "code",
   "execution_count": 30,
   "metadata": {},
   "outputs": [],
   "source": [
    "def generate_few_shot(model: str, user_query: str) -> str:\n",
    "    \"\"\"\n",
    "    Uses few-shot learning with examples before processing the user request.\n",
    "    \"\"\"\n",
    "    example_1_in = \"I want a crime drama with a tense storyline under 60 minutes.\"\n",
    "    example_1_out = \"I recommend 'Breaking Bad', which delivers suspense in ~47-min episodes.\"\n",
    "\n",
    "    example_2_in = \"Looking for a kids-friendly fantasy series around 30 minutes.\"\n",
    "    example_2_out = \"I recommend 'The Owl House', a fun fantasy cartoon with 22-min episodes.\"\n",
    "\n",
    "    prompt = f\"\"\"\n",
    "        Here are some examples of recommendations:\n",
    "\n",
    "        Example 1:\n",
    "        User: \"{example_1_in}\"\n",
    "        Assistant: \"{example_1_out}\"\n",
    "\n",
    "        Example 2:\n",
    "        User: \"{example_2_in}\"\n",
    "        Assistant: \"{example_2_out}\"\n",
    "\n",
    "        Now the user wants an answer to this request:\n",
    "        \"{user_query}\"\n",
    "        Assistant:\n",
    "        \"\"\"\n",
    "    return openai_generate(prompt, model=model)"
   ]
  },
  {
   "cell_type": "code",
   "execution_count": 32,
   "metadata": {},
   "outputs": [
    {
     "name": "stdout",
     "output_type": "stream",
     "text": [
      "\n",
      "--- GPT-4O-MINI_NO_FS ---\n",
      "I recommend **\"Leverage.\"** This show features a team of con artists and thieves who use their skills to help those in need and take down corrupt individuals and organizations. Each episode is packed with clever schemes, twists, and a good dose of humor. The episodes are typically around 45 minutes long, making it perfect for your preference. It’s engaging, entertaining, and has a great mix of action and wit for a 16-year-old audience. Enjoy!\n",
      "\n",
      "--- GPT-4O-MINI_FS ---\n",
      "\"I recommend 'Sneaky Pete', which follows a con artist who assumes the identity of his former cellmate. The episodes are around 50 minutes long and provide a mix of drama and clever schemes that are suitable for a 16-year-old.\"\n",
      "\n",
      "--- GPT-4_NO_FS ---\n",
      "\"White Collar\"\n",
      "\n",
      "--- GPT-4_FS ---\n",
      "\"I recommend 'White Collar'. This show is about a con artist who works with an FBI agent to solve white-collar crimes. Each episode is approximately 40-50 minutes long and suitable for a 16-year-old.\"\n"
     ]
    }
   ],
   "source": [
    "def get_recommendations(user_query: str):\n",
    "    \"\"\"\n",
    "    Returns recommendations for GPT-4o Mini and GPT-4, both pre and post few-shot prompting.\n",
    "    \"\"\"\n",
    "    results = {}\n",
    "\n",
    "    # GPT-4o Mini (No Few-Shot)\n",
    "    results[\"gpt-4o-mini_no_fs\"] = generate_no_few_shot(\"gpt-4o-mini\", user_query)\n",
    "\n",
    "    # GPT-4o Mini (Few-Shot)\n",
    "    results[\"gpt-4o-mini_fs\"] = generate_few_shot(\"gpt-4o-mini\", user_query)\n",
    "\n",
    "    # GPT-4 (No Few-Shot)\n",
    "    results[\"gpt-4_no_fs\"] = generate_no_few_shot(\"gpt-4\", user_query)\n",
    "\n",
    "    # GPT-4 (Few-Shot)\n",
    "    results[\"gpt-4_fs\"] = generate_few_shot(\"gpt-4\", user_query)\n",
    "\n",
    "    return results\n",
    "\n",
    "# Example Usage\n",
    "query_example = \"I want a con-man show under 60 minutes for a 16-year-old.\"\n",
    "outputs = get_recommendations(query_example)\n",
    "\n",
    "# Print Results\n",
    "for key, val in outputs.items():\n",
    "    print(f\"\\n--- {key.upper()} ---\\n{val}\")\n"
   ]
  }
 ],
 "metadata": {
  "kernelspec": {
   "display_name": "tv_rec_venv",
   "language": "python",
   "name": "python3"
  },
  "language_info": {
   "codemirror_mode": {
    "name": "ipython",
    "version": 3
   },
   "file_extension": ".py",
   "mimetype": "text/x-python",
   "name": "python",
   "nbconvert_exporter": "python",
   "pygments_lexer": "ipython3",
   "version": "3.13.0"
  }
 },
 "nbformat": 4,
 "nbformat_minor": 2
}
